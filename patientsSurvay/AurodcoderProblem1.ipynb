{
 "cells": [
  {
   "cell_type": "code",
   "execution_count": 90,
   "id": "e59b01ed",
   "metadata": {},
   "outputs": [
    {
     "name": "stdout",
     "output_type": "stream",
     "text": [
      "64461\n"
     ]
    }
   ],
   "source": [
    "import csv\n",
    "\n",
    "with open('survey_results_public.csv', 'r') as csvfile:\n",
    "    reader = csv.reader(csvfile, delimiter=',')\n",
    "    count=0\n",
    "    for row in reader:\n",
    "        count=count+1\n",
    "    count=count-1\n",
    "    print(count) #-1 becuase it is also evaluating headings\n",
    "        "
   ]
  },
  {
   "cell_type": "code",
   "execution_count": null,
   "id": "99373b73",
   "metadata": {},
   "outputs": [],
   "source": [
    "with open('survey_results_public.csv', 'r') as csvfile:\n",
    "    reader = csv.reader(csvfile, delimiter=',')\n",
    "    min=4000;\n",
    "    for row in reader:\n",
    "        if \"Stack Overflow\" in row[39]:\n",
    "            if(row[3]!=\"NA\" and min>float(row[3])):\n",
    "                min=int(row[3])\n",
    "    print(min)\n",
    "            \n",
    "        "
   ]
  },
  {
   "cell_type": "code",
   "execution_count": 21,
   "id": "9dc30041",
   "metadata": {},
   "outputs": [
    {
     "name": "stdout",
     "output_type": "stream",
     "text": [
      "28539\n"
     ]
    }
   ],
   "source": [
    "with open('survey_results_public.csv', 'r') as csvfile:\n",
    "    reader = csv.reader(csvfile, delimiter=',')\n",
    "    count=0;\n",
    "    for row in reader:\n",
    "        if(row[19]==\"Very satisfied\" or row[19]==\"Slightly satisfied\"):\n",
    "            count=count+1\n",
    "    print(count)"
   ]
  },
  {
   "cell_type": "code",
   "execution_count": 86,
   "id": "17ceef97",
   "metadata": {},
   "outputs": [
    {
     "name": "stdout",
     "output_type": "stream",
     "text": [
      "JavaScript,HTML/CSS,SQL,Python,Java,"
     ]
    }
   ],
   "source": [
    "with open('survey_results_public.csv', 'r') as csvfile:\n",
    "    reader = csv.reader(csvfile, delimiter=',')\n",
    "    count=0;\n",
    "    dic={}\n",
    "    lists=[]\n",
    "    for row in reader:\n",
    "        lists=(row[22].split(\";\"))\n",
    "        for j in lists:\n",
    "            if dic.get(j)==None:\n",
    "                dic[j]=1\n",
    "            else:\n",
    "                a=dic[j]\n",
    "                dic[j]=a+1\n",
    "        lists=[]\n",
    "    max=0;\n",
    "    a=\"\"\n",
    "    for j in range(0,5):\n",
    "        for i in dic.keys():\n",
    "            if(dic.get(i)>max):\n",
    "                a=i\n",
    "                max=dic.get(i)\n",
    "        print(a, end=\",\")\n",
    "        max=0\n",
    "        dic[a]=-1\n",
    "            \n",
    "        \n",
    "   "
   ]
  },
  {
   "cell_type": "code",
   "execution_count": null,
   "id": "9f848737",
   "metadata": {},
   "outputs": [],
   "source": []
  },
  {
   "cell_type": "code",
   "execution_count": null,
   "id": "6ee22f19",
   "metadata": {},
   "outputs": [],
   "source": []
  },
  {
   "cell_type": "code",
   "execution_count": 82,
   "id": "21ce1936",
   "metadata": {},
   "outputs": [
    {
     "name": "stdout",
     "output_type": "stream",
     "text": [
      "24661\n"
     ]
    }
   ],
   "source": [
    "with open('survey_results_public.csv', 'r') as csvfile:\n",
    "    reader = csv.reader(csvfile, delimiter=',')\n",
    "    count=0;\n",
    "    lists={}\n",
    "    flag=0\n",
    "    for row in reader:\n",
    "        lists=(row[13].split(\";\"))\n",
    "        for i in lists:\n",
    "            #print(i[0:9])\n",
    "            if(i[0:9]!=\"Developer\"):\n",
    "                flag=1\n",
    "        if(flag==0):\n",
    "            count=count+1\n",
    "        flag=0\n",
    "    print(count)"
   ]
  },
  {
   "cell_type": "code",
   "execution_count": 83,
   "id": "abb97a5c",
   "metadata": {},
   "outputs": [
    {
     "name": "stdout",
     "output_type": "stream",
     "text": [
      "\n"
     ]
    }
   ],
   "source": [
    "print()"
   ]
  },
  {
   "cell_type": "code",
   "execution_count": 84,
   "id": "e155993d",
   "metadata": {},
   "outputs": [
    {
     "name": "stdout",
     "output_type": "stream",
     "text": [
      "Windows\n"
     ]
    }
   ],
   "source": [
    "with open('survey_results_public.csv', 'r') as csvfile:\n",
    "    reader = csv.reader(csvfile, delimiter=',')\n",
    "    count=0;\n",
    "    dic={}\n",
    "    for row in reader:\n",
    "            if dic.get(row[41])==None:\n",
    "                dic[row[41]]=1\n",
    "            else:\n",
    "                a=dic[row[41]]\n",
    "                dic[row[41]]=a+1\n",
    "   # print(dic)\n",
    "    max=0;\n",
    "    a=\"\"\n",
    "    for i in dic.keys():\n",
    "        if(dic.get(i)>max):\n",
    "            a=i\n",
    "            max=dic.get(i)\n",
    "    print(a)"
   ]
  },
  {
   "cell_type": "code",
   "execution_count": 79,
   "id": "1b6c659a",
   "metadata": {},
   "outputs": [
    {
     "name": "stdout",
     "output_type": "stream",
     "text": [
      "263.0\n"
     ]
    }
   ],
   "source": [
    "with open('survey_results_public.csv', 'r') as csvfile:\n",
    "    reader = csv.reader(csvfile, delimiter=',')\n",
    "    max=0\n",
    "    for row in reader:\n",
    "            if(row[3]!=\"Age\" and row[3]!=\"NA\" and row[4]!=\"NA\"):\n",
    "                lists=row[4].split(\" \")\n",
    "                if \"Younger\" in row[4]:\n",
    "                    b=int(lists[2])\n",
    "                elif \"Older\" in row[4]:\n",
    "                    b=int(lists[2])\n",
    "                else:\n",
    "                    b=row[4]\n",
    "                if(max<float(row[3])-float(b)):\n",
    "                    max=float(row[3])-float(b)\n",
    "    print(max)\n",
    "   "
   ]
  },
  {
   "cell_type": "code",
   "execution_count": null,
   "id": "1b310d13",
   "metadata": {},
   "outputs": [],
   "source": []
  },
  {
   "cell_type": "code",
   "execution_count": null,
   "id": "66b2aa68",
   "metadata": {},
   "outputs": [],
   "source": []
  }
 ],
 "metadata": {
  "kernelspec": {
   "display_name": "Python 3 (ipykernel)",
   "language": "python",
   "name": "python3"
  },
  "language_info": {
   "codemirror_mode": {
    "name": "ipython",
    "version": 3
   },
   "file_extension": ".py",
   "mimetype": "text/x-python",
   "name": "python",
   "nbconvert_exporter": "python",
   "pygments_lexer": "ipython3",
   "version": "3.10.9"
  }
 },
 "nbformat": 4,
 "nbformat_minor": 5
}
